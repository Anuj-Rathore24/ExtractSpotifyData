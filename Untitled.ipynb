{
 "cells": [
  {
   "cell_type": "code",
   "execution_count": 1,
   "id": "b061bf7c",
   "metadata": {},
   "outputs": [],
   "source": [
    "import pandas as pd\n",
    "import numpy as np\n",
    "from sklearn.preprocessing import MinMaxScaler,KBinsDiscretizer,OneHotEncoder\n",
    "from sklearn.compose import ColumnTransformer\n",
    "from sklearn.metrics.pairwise import cosine_similarity\n",
    "import pickle\n"
   ]
  },
  {
   "cell_type": "code",
   "execution_count": 7,
   "id": "9925f518",
   "metadata": {},
   "outputs": [],
   "source": [
    "class Preprocessing:\n",
    "    def __init__(self,AcousticFeaturesFilepath,SongsMetadataFilepath):\n",
    "        self.AcousticFeaturesDF = pd.read_csv(AcousticFeaturesFilepath)\n",
    "        self.SongsMetadataDF = pd.read_csv(SongsMetadataFilepath)\n",
    "        self.FinalDF = pd.concat([self.AcousticFeaturesDF,self.SongsMetadataDF],join='inner',axis=1)\n",
    "        self.FinalDF.drop(columns=self.FinalDF.columns[[11,13,14,15,17]],inplace=True)\n",
    "    \n",
    "    def clean_feature(self,feature,feature_cell):\n",
    "        if feature_cell == 0:\n",
    "            return self.FinalDF[self.FinalDF[feature]!=0].median()['instrumentalness']\n",
    "        else:\n",
    "            return feature_cell\n",
    "        \n",
    "    def clean_features(self,ListofFeatures):\n",
    "        for feature in ListofFeatures:\n",
    "            self.FinalDF[feature].apply(lambda x: self.clean_feature(feature,x))\n",
    "\n",
    "            \n",
    "    def column_transformation(self,bins):\n",
    "        PoplBins = KBinsDiscretizer(n_bins=bins,encode='ordinal')\n",
    "        ColTnf = ColumnTransformer(transformers=[('tnf1',PoplBins,['popularity']),\n",
    "                    ('tnf2',MinMaxScaler(),['loudness','tempo']),\n",
    "                ('tnf3',OneHotEncoder(sparse=False,drop='first'),['skey','smode'])]\n",
    "                           ,remainder='passthrough')\n",
    "        df = ColTnf.fit_transform(self.FinalDF)\n",
    "        return df\n",
    "    \n",
    "    \n",
    "        \n",
    "class RecommendationSystem(Preprocessing):\n",
    "    \n",
    "    def __init__(self,AcousticFeaturesFilepath,SongsMetadataFilepath):\n",
    "        super().__init__(AcousticFeaturesFilepath,SongsMetadataFilepath)\n",
    "        super().clean_features(['instrumentalness'])\n",
    "        self.df = super().column_transformation(bins=10)\n",
    "        similarity = cosine_similarity(self.df[:,:-1])\n",
    "        self.index_songId_dict = dict(enumerate(self.df[:,-1]))\n",
    "        self.songId_index_dict = dict([(value,key) for key,value in self.index_songId_dict.items()])\n",
    "        #print(similarity)\n",
    "    \n",
    "    def Search_SongId_for_index(self,ListOfSongIdsIndex):\n",
    "        temp = []\n",
    "        for i in ListOfSongIdsIndex:\n",
    "            temp.append(self.index_songId_dict[i])\n",
    "        return temp\n",
    "    \n",
    "    def Search_index_for_SongId(self,song_id):\n",
    "        song_index = self.songId_index_dict[song_id]\n",
    "        return song_index\n",
    "    \n",
    "    @staticmethod\n",
    "    def ListOfSongIds(Top_k_song_similarity_list):\n",
    "        temp = []\n",
    "        for i in Top_k_song_similarity_list:\n",
    "            temp.append(i[0])\n",
    "        return temp\n",
    "    \n",
    "    @staticmethod\n",
    "    def RecommenderEngine(self,song_id,n_recommendations):\n",
    "        index = self.Search_index_for_SongId(song_id)\n",
    "        similar_songs_indexes_list = sorted(list(enumerate(self.similarity[index])),reverse=True,key=lambda x:x[1])[1:n_recommendations+1]\n",
    "        SongId_index_list = self.ListOfSongIds(similar_songs_indexes_list)\n",
    "        Results_SongId = self.Search_SongId_for_index(SongId_index_list)\n",
    "        return Results_SongId\n"
   ]
  },
  {
   "cell_type": "code",
   "execution_count": 8,
   "id": "ac133e7b",
   "metadata": {},
   "outputs": [
    {
     "name": "stderr",
     "output_type": "stream",
     "text": [
      "/tmp/ipykernel_61800/3993933383.py:10: FutureWarning: Dropping of nuisance columns in DataFrame reductions (with 'numeric_only=None') is deprecated; in a future version this will raise TypeError.  Select only valid columns before calling the reduction.\n",
      "  return self.FinalDF[self.FinalDF[feature]!=0].median()['instrumentalness']\n"
     ]
    }
   ],
   "source": [
    "\n",
    "# temp=Preprocessing(\"acousticFeatures.csv\",\"songs.csv\")\n",
    "# temp.column_transformation(10)\n",
    "\n",
    "HopeSpotify = RecommendationSystem('./acousticFeatures.csv','./songs.csv')\n",
    "\n",
    "# PickleFileObj = open('HopeSpotifyPickleFile','wb')\n",
    "# pickle.dump(HopeSpotify,PickleFileObj)\n",
    "# PickleFileObj.close()\n",
    "\n",
    "# loadedmodel = pickle.load(open('HopeSpotifyPickleFile', 'rb'))\n",
    "# loadedmodel.RecommenderEngine('07X7p4jFhHEECps5IBKQ3c',3)"
   ]
  },
  {
   "cell_type": "code",
   "execution_count": 9,
   "id": "3ba6da1a",
   "metadata": {},
   "outputs": [
    {
     "ename": "TypeError",
     "evalue": "RecommenderEngine() missing 1 required positional argument: 'self'",
     "output_type": "error",
     "traceback": [
      "\u001b[0;31m---------------------------------------------------------------------------\u001b[0m",
      "\u001b[0;31mTypeError\u001b[0m                                 Traceback (most recent call last)",
      "\u001b[0;32m/tmp/ipykernel_61800/2533569065.py\u001b[0m in \u001b[0;36m<module>\u001b[0;34m\u001b[0m\n\u001b[0;32m----> 1\u001b[0;31m \u001b[0mHopeSpotify\u001b[0m\u001b[0;34m.\u001b[0m\u001b[0mRecommenderEngine\u001b[0m\u001b[0;34m(\u001b[0m\u001b[0msong_id\u001b[0m\u001b[0;34m=\u001b[0m\u001b[0;34m'00vIUyr4zclAzrJsMWvhh4'\u001b[0m\u001b[0;34m,\u001b[0m\u001b[0mn_recommendations\u001b[0m\u001b[0;34m=\u001b[0m\u001b[0;36m5\u001b[0m\u001b[0;34m)\u001b[0m\u001b[0;34m\u001b[0m\u001b[0;34m\u001b[0m\u001b[0m\n\u001b[0m",
      "\u001b[0;31mTypeError\u001b[0m: RecommenderEngine() missing 1 required positional argument: 'self'"
     ]
    }
   ],
   "source": [
    "HopeSpotify.RecommenderEngine(song_id='00vIUyr4zclAzrJsMWvhh4',n_recommendations=5)"
   ]
  }
 ],
 "metadata": {
  "kernelspec": {
   "display_name": "Python 3 (ipykernel)",
   "language": "python",
   "name": "python3"
  },
  "language_info": {
   "codemirror_mode": {
    "name": "ipython",
    "version": 3
   },
   "file_extension": ".py",
   "mimetype": "text/x-python",
   "name": "python",
   "nbconvert_exporter": "python",
   "pygments_lexer": "ipython3",
   "version": "3.9.13"
  }
 },
 "nbformat": 4,
 "nbformat_minor": 5
}
